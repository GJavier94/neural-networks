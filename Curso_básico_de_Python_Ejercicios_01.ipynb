{
  "nbformat": 4,
  "nbformat_minor": 0,
  "metadata": {
    "kernelspec": {
      "display_name": "Python 3",
      "language": "python",
      "name": "python3"
    },
    "language_info": {
      "codemirror_mode": {
        "name": "ipython",
        "version": 3
      },
      "file_extension": ".py",
      "mimetype": "text/x-python",
      "name": "python",
      "nbconvert_exporter": "python",
      "pygments_lexer": "ipython3",
      "version": "3.6.3"
    },
    "colab": {
      "name": "Curso básico de Python - Ejercicios 01.ipynb",
      "provenance": [],
      "collapsed_sections": [],
      "include_colab_link": true
    }
  },
  "cells": [
    {
      "cell_type": "markdown",
      "metadata": {
        "id": "view-in-github",
        "colab_type": "text"
      },
      "source": [
        "<a href=\"https://colab.research.google.com/github/GJavier94/neural-networks/blob/main/Curso_b%C3%A1sico_de_Python_Ejercicios_01.ipynb\" target=\"_parent\"><img src=\"https://colab.research.google.com/assets/colab-badge.svg\" alt=\"Open In Colab\"/></a>"
      ]
    },
    {
      "cell_type": "markdown",
      "metadata": {
        "id": "-ZEx24_W6THE"
      },
      "source": [
        "# Python Crash Course Exercises \n",
        "\n"
      ]
    },
    {
      "cell_type": "markdown",
      "metadata": {
        "id": "cb3_qckx6THG"
      },
      "source": [
        "## Ejercicios 01 - DeepDaemon - Junio 2018\n",
        "\n",
        "Contesta las siguientes preguntas o completa las tareas marcadas en negritas que se presentan a continuación, utiliza el método especificado cuando se indique.\n"
      ]
    },
    {
      "cell_type": "markdown",
      "metadata": {
        "id": "vtMpc8mZ6THH"
      },
      "source": [
        "** ¿Cuánto es 8 elevado a la 5?**"
      ]
    },
    {
      "cell_type": "code",
      "metadata": {
        "id": "bvqQDd4d6THJ",
        "colab": {
          "base_uri": "https://localhost:8080/"
        },
        "outputId": "afe33dd5-9627-4c7f-e3f1-7f5391b8e2e0"
      },
      "source": [
        "8**5"
      ],
      "execution_count": null,
      "outputs": [
        {
          "output_type": "execute_result",
          "data": {
            "text/plain": [
              "32768"
            ]
          },
          "metadata": {
            "tags": []
          },
          "execution_count": 1
        }
      ]
    },
    {
      "cell_type": "markdown",
      "metadata": {
        "id": "aaYVU0e86THS"
      },
      "source": [
        "** Separa la siguiente cadena:**\n",
        "\n",
        "    s = \"¡Estoy en el curso de Ford!\"\n",
        "    \n",
        "**en una lista. **"
      ]
    },
    {
      "cell_type": "code",
      "metadata": {
        "id": "ZG8lG-Nu6THT"
      },
      "source": [
        "s = \"¡Estoy en el curso de Ford!\"\n"
      ],
      "execution_count": null,
      "outputs": []
    },
    {
      "cell_type": "code",
      "metadata": {
        "id": "LlxY0Tdr6THZ"
      },
      "source": [
        "lista = []"
      ],
      "execution_count": null,
      "outputs": []
    },
    {
      "cell_type": "code",
      "metadata": {
        "id": "p8U0vqMG7Qww",
        "colab": {
          "base_uri": "https://localhost:8080/"
        },
        "outputId": "14f303af-314e-4475-cf85-8f4c805ce460"
      },
      "source": [
        "lista = s.split()\n",
        "print(lista)"
      ],
      "execution_count": null,
      "outputs": [
        {
          "output_type": "stream",
          "text": [
            "['¡Estoy', 'en', 'el', 'curso', 'de', 'Ford!']\n"
          ],
          "name": "stdout"
        }
      ]
    },
    {
      "cell_type": "markdown",
      "metadata": {
        "id": "bZ4ebpwy6THg"
      },
      "source": [
        "** Dadas las siguientes variables:**\n",
        "\n",
        "    planeta = \"Tierra\"\n",
        "    diametro = 12742\n",
        "\n",
        "** Use .format() para imprimir el la siguiente cadena: **\n",
        "\n",
        "    El diámetro de la Tierra es 12742 kilometros."
      ]
    },
    {
      "cell_type": "code",
      "metadata": {
        "id": "Kbr8Mcdd6THg"
      },
      "source": [
        "planeta = \"Tierra\"\n",
        "diametro = \"12742\""
      ],
      "execution_count": null,
      "outputs": []
    },
    {
      "cell_type": "code",
      "metadata": {
        "id": "IJjVEyLW6THl",
        "colab": {
          "base_uri": "https://localhost:8080/"
        },
        "outputId": "d6e2fd5f-7458-42d5-a431-0df0a9983014"
      },
      "source": [
        "print(\"El diámetro de la {0} es {1} kilometros.\".format(planeta, diametro)  )"
      ],
      "execution_count": null,
      "outputs": [
        {
          "output_type": "stream",
          "text": [
            "El diámetro de la Tierra es 12742 kilometros.\n"
          ],
          "name": "stdout"
        }
      ]
    },
    {
      "cell_type": "markdown",
      "metadata": {
        "id": "TKysvoh16THs"
      },
      "source": [
        "** Dada la siguiente lista anidada, utilice el indexado para extraer la palabra \"hola\" **"
      ]
    },
    {
      "cell_type": "code",
      "metadata": {
        "id": "VaOPTABO6THt"
      },
      "source": [
        "lst = [1,2,[3,4],[5,[100,200,['hola']],23,11],1,7]"
      ],
      "execution_count": null,
      "outputs": []
    },
    {
      "cell_type": "code",
      "metadata": {
        "id": "hfKLjkE56TH0",
        "colab": {
          "base_uri": "https://localhost:8080/"
        },
        "outputId": "4a185f4a-9d0c-4686-827e-d0968e2d10f8"
      },
      "source": [
        "lst[3][1][2]"
      ],
      "execution_count": null,
      "outputs": [
        {
          "output_type": "execute_result",
          "data": {
            "text/plain": [
              "['hola']"
            ]
          },
          "metadata": {
            "tags": []
          },
          "execution_count": 14
        }
      ]
    },
    {
      "cell_type": "markdown",
      "metadata": {
        "id": "VtIb6KEG6TH5"
      },
      "source": [
        "** Dado el siguiente diccionario aninado obtenga la palabra \"hola\". Este preparado, este ejecicio será molesto/difícil **"
      ]
    },
    {
      "cell_type": "code",
      "metadata": {
        "id": "tOWsbz-G6TH6"
      },
      "source": [
        "d = {'k1':[1,2,3,{'dificíl':['oh','hombre','principio',{'objetivo':[1,2,3,'hola']}]}]}"
      ],
      "execution_count": null,
      "outputs": []
    },
    {
      "cell_type": "code",
      "metadata": {
        "id": "828sTLET6TH_",
        "colab": {
          "base_uri": "https://localhost:8080/",
          "height": 35
        },
        "outputId": "e96880ae-22a3-4499-f09d-d577a0af9b08"
      },
      "source": [
        "((d['k1'][3])['dificíl'][3])['objetivo'][3]\n",
        "\n"
      ],
      "execution_count": null,
      "outputs": [
        {
          "output_type": "execute_result",
          "data": {
            "application/vnd.google.colaboratory.intrinsic+json": {
              "type": "string"
            },
            "text/plain": [
              "'hola'"
            ]
          },
          "metadata": {
            "tags": []
          },
          "execution_count": 38
        }
      ]
    },
    {
      "cell_type": "markdown",
      "metadata": {
        "id": "liNlzRKj6TIC"
      },
      "source": [
        "** ¿Cuál es la principal diferencia entre tupla y lista? **"
      ]
    },
    {
      "cell_type": "code",
      "metadata": {
        "id": "vZYHFAGc6TID"
      },
      "source": [
        "# La tupla es inmutable"
      ],
      "execution_count": null,
      "outputs": []
    },
    {
      "cell_type": "markdown",
      "metadata": {
        "id": "Vq0t3ga86TIH"
      },
      "source": [
        "** Escriba una función que capture el dominio del sitio web del correo electrónico a partir de una cadena con el siguiente formato: **\n",
        "\n",
        "    usuario@dominio.com\n",
        "    \n",
        "**Como ejemplo, del correo \"usuario@dominio.com\" deberá regresar: dominio.com**"
      ]
    },
    {
      "cell_type": "code",
      "metadata": {
        "id": "hAsV3Br36TII"
      },
      "source": [
        "def domainGet(text):\n",
        "    dom = text.split('@',1)\n",
        "    return dom[1]"
      ],
      "execution_count": null,
      "outputs": []
    },
    {
      "cell_type": "code",
      "metadata": {
        "id": "iTxvCm0V6TIO",
        "colab": {
          "base_uri": "https://localhost:8080/",
          "height": 35
        },
        "outputId": "8992d82b-ea99-47bb-82a2-3a10a217250c"
      },
      "source": [
        "domainGet('usuario@dominio.com')"
      ],
      "execution_count": null,
      "outputs": [
        {
          "output_type": "execute_result",
          "data": {
            "application/vnd.google.colaboratory.intrinsic+json": {
              "type": "string"
            },
            "text/plain": [
              "'dominio.com'"
            ]
          },
          "metadata": {
            "tags": []
          },
          "execution_count": 43
        }
      ]
    },
    {
      "cell_type": "markdown",
      "metadata": {
        "id": "Z1oXGRgI6TIR"
      },
      "source": [
        "** Cree una función básica que devuelva Verdadero si la palabra 'perro' está contenida en la cadena de entrada. No se preocupe por los casos donde al final se adjunta alguna puntuación a la palabra perro, pero tome en cuenta las mayúsculas. **"
      ]
    },
    {
      "cell_type": "code",
      "metadata": {
        "id": "mqjA3YVl6TIS"
      },
      "source": [
        "def findDog(text):\n",
        "    li=[]\n",
        "    li = text.upper().split()\n",
        "    if 'PERRO' in li:\n",
        "      return True\n",
        "    #string not in the list\n",
        "    else:\n",
        "        return False\n",
        "        "
      ],
      "execution_count": null,
      "outputs": []
    },
    {
      "cell_type": "code",
      "metadata": {
        "id": "C2X9UcN86TIX",
        "colab": {
          "base_uri": "https://localhost:8080/"
        },
        "outputId": "869d478d-2052-4704-9348-f8b5449c8764"
      },
      "source": [
        "findDog('Hay un perro aquí?')"
      ],
      "execution_count": null,
      "outputs": [
        {
          "output_type": "execute_result",
          "data": {
            "text/plain": [
              "True"
            ]
          },
          "metadata": {
            "tags": []
          },
          "execution_count": 45
        }
      ]
    },
    {
      "cell_type": "markdown",
      "metadata": {
        "id": "zSH81Th-6TIa"
      },
      "source": [
        "** Crea una función que cuente la cantidad de veces que aparece la palabra \"perro\" en una cadena. Nuevamente ignore los casos donde al final se adjunta alguna puntuación. **"
      ]
    },
    {
      "cell_type": "code",
      "metadata": {
        "id": "YKDl0-_W6TIc"
      },
      "source": [
        "def countDog(text):\n",
        "    li = text.upper().split()\n",
        "    ocurrences = li.count('PERRO')\n",
        "    return ocurrences"
      ],
      "execution_count": null,
      "outputs": []
    },
    {
      "cell_type": "code",
      "metadata": {
        "id": "-hX_hr3y6TIg",
        "colab": {
          "base_uri": "https://localhost:8080/"
        },
        "outputId": "c5bf7472-998b-4fe7-92d1-66b0b8e7822e"
      },
      "source": [
        "countDog('Este perro corre más rápido que el otro perro amigo!')"
      ],
      "execution_count": null,
      "outputs": [
        {
          "output_type": "execute_result",
          "data": {
            "text/plain": [
              "2"
            ]
          },
          "metadata": {
            "tags": []
          },
          "execution_count": 51
        }
      ]
    },
    {
      "cell_type": "markdown",
      "metadata": {
        "id": "99AmA_Ud6TIk"
      },
      "source": [
        "** Use expresiones lambda y la funcón filter() para filtrar de una lista aquellas palabras que no comiencen con la letra 's'. Por ejemplo:**\n",
        "\n",
        "    seq = ['sopa','perro','sierra','gato','estupendo']\n",
        "\n",
        "**should be filtered down to:**\n",
        "\n",
        "    ['sopa','sierra']"
      ]
    },
    {
      "cell_type": "code",
      "metadata": {
        "id": "tE71aHFQ6TIl"
      },
      "source": [
        "seq = ['sopa','perro','sierra','gato','estupendo']"
      ],
      "execution_count": null,
      "outputs": []
    },
    {
      "cell_type": "code",
      "metadata": {
        "id": "HNmOyvA96TIo",
        "colab": {
          "base_uri": "https://localhost:8080/"
        },
        "outputId": "b5291d74-bc42-4f4f-b9f5-3183824964cb"
      },
      "source": [
        "list( filter(  lambda cad: cad[0] != 's', seq )  ) "
      ],
      "execution_count": null,
      "outputs": [
        {
          "output_type": "execute_result",
          "data": {
            "text/plain": [
              "['perro', 'gato', 'estupendo']"
            ]
          },
          "metadata": {
            "tags": []
          },
          "execution_count": 77
        }
      ]
    },
    {
      "cell_type": "markdown",
      "metadata": {
        "id": "srD68UL66TIt"
      },
      "source": [
        "### Problema final\n",
        "** Estás manejado y un policia te detiene. Escribe una función que regrese uno de los siguientes tres valores: \"Sin multa\", \"Multa pequeña\" o \"Multa grande\". Si tú velocidad es de 50 km o menor, el resultado será \"Sin multa\". Si tú velocidad está entre 51 km y 80 km, el resultado será \"Multa pequeña\". Si tú velocidad es de 81 km o mayor, el resultado será \"Multa grande\". Esto se cumplirá al menos que sea el día de tú cumpleaños (que será codificado como un valor booleano en los parámetros de la función) -- en tu cumpleaños tienes permitido que tú velocidad sea 5 km mayor en todos los casos. **"
      ]
    },
    {
      "cell_type": "code",
      "metadata": {
        "id": "1WXtOeG46TIu"
      },
      "source": [
        "def caught_speeding(velocidad, es_mi_cumpleaños):\n",
        "    km50 = 50\n",
        "    km80 = 80 \n",
        "    if(es_mi_cumpleaños == True):\n",
        "      km50 += 5\n",
        "      km80 += 5\n",
        "\n",
        "    if(velocidad <= km50): \n",
        "      return(\"Sin multa\")\n",
        "    elif(velocidad >= km50 +1 and velocidad <= km80):\n",
        "      return(\"Multa pequeña\")\n",
        "    elif(velocidad >= km80 + 1):\n",
        "      return(\"Multa grande\")\n",
        "    \n"
      ],
      "execution_count": null,
      "outputs": []
    },
    {
      "cell_type": "code",
      "metadata": {
        "id": "mpE8io956TI0",
        "colab": {
          "base_uri": "https://localhost:8080/",
          "height": 35
        },
        "outputId": "4ae697d8-d176-4d44-d74f-51440f629f78"
      },
      "source": [
        "caught_speeding(81,True)"
      ],
      "execution_count": null,
      "outputs": [
        {
          "output_type": "execute_result",
          "data": {
            "application/vnd.google.colaboratory.intrinsic+json": {
              "type": "string"
            },
            "text/plain": [
              "'Multa pequeña'"
            ]
          },
          "metadata": {
            "tags": []
          },
          "execution_count": 79
        }
      ]
    },
    {
      "cell_type": "code",
      "metadata": {
        "id": "x1DUlnAG6TI3",
        "colab": {
          "base_uri": "https://localhost:8080/",
          "height": 35
        },
        "outputId": "9cda250d-49a2-4f59-985a-d3b78e71b53e"
      },
      "source": [
        "caught_speeding(81,False)"
      ],
      "execution_count": null,
      "outputs": [
        {
          "output_type": "execute_result",
          "data": {
            "application/vnd.google.colaboratory.intrinsic+json": {
              "type": "string"
            },
            "text/plain": [
              "'Multa grande'"
            ]
          },
          "metadata": {
            "tags": []
          },
          "execution_count": 80
        }
      ]
    },
    {
      "cell_type": "markdown",
      "metadata": {
        "id": "_-a75L_r6TI7"
      },
      "source": [
        "# ¡Excelente trabajo!"
      ]
    },
    {
      "cell_type": "code",
      "metadata": {
        "id": "ogp_64nW6TI8"
      },
      "source": [
        ""
      ],
      "execution_count": null,
      "outputs": []
    }
  ]
}